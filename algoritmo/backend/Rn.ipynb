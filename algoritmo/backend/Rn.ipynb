{
 "cells": [
  {
   "cell_type": "code",
   "execution_count": 33,
   "metadata": {},
   "outputs": [
    {
     "name": "stdout",
     "output_type": "stream",
     "text": [
      "Requirement already satisfied: numpy in c:\\users\\barbara\\appdata\\local\\programs\\python\\python311\\lib\\site-packages (1.23.5)\n",
      "Requirement already satisfied: pandas in c:\\users\\barbara\\appdata\\local\\programs\\python\\python311\\lib\\site-packages (2.2.2)\n",
      "Requirement already satisfied: scikit-learn in c:\\users\\barbara\\appdata\\local\\programs\\python\\python311\\lib\\site-packages (1.5.0)\n",
      "Requirement already satisfied: tensorflow in c:\\users\\barbara\\appdata\\local\\programs\\python\\python311\\lib\\site-packages (2.12.0)\n",
      "Requirement already satisfied: pillow in c:\\users\\barbara\\appdata\\local\\programs\\python\\python311\\lib\\site-packages (9.5.0)\n",
      "Requirement already satisfied: matplotlib in c:\\users\\barbara\\appdata\\local\\programs\\python\\python311\\lib\\site-packages (3.9.0)\n",
      "Requirement already satisfied: opencv-python in c:\\users\\barbara\\appdata\\local\\programs\\python\\python311\\lib\\site-packages (4.10.0.82)\n",
      "Requirement already satisfied: python-dateutil>=2.8.2 in c:\\users\\barbara\\appdata\\local\\programs\\python\\python311\\lib\\site-packages (from pandas) (2.9.0.post0)\n",
      "Requirement already satisfied: pytz>=2020.1 in c:\\users\\barbara\\appdata\\local\\programs\\python\\python311\\lib\\site-packages (from pandas) (2024.1)\n",
      "Requirement already satisfied: tzdata>=2022.7 in c:\\users\\barbara\\appdata\\local\\programs\\python\\python311\\lib\\site-packages (from pandas) (2024.1)\n",
      "Requirement already satisfied: scipy>=1.6.0 in c:\\users\\barbara\\appdata\\local\\programs\\python\\python311\\lib\\site-packages (from scikit-learn) (1.10.1)\n",
      "Requirement already satisfied: joblib>=1.2.0 in c:\\users\\barbara\\appdata\\local\\programs\\python\\python311\\lib\\site-packages (from scikit-learn) (1.4.2)\n",
      "Requirement already satisfied: threadpoolctl>=3.1.0 in c:\\users\\barbara\\appdata\\local\\programs\\python\\python311\\lib\\site-packages (from scikit-learn) (3.5.0)\n",
      "Requirement already satisfied: tensorflow-intel==2.12.0 in c:\\users\\barbara\\appdata\\local\\programs\\python\\python311\\lib\\site-packages (from tensorflow) (2.12.0)\n",
      "Requirement already satisfied: absl-py>=1.0.0 in c:\\users\\barbara\\appdata\\local\\programs\\python\\python311\\lib\\site-packages (from tensorflow-intel==2.12.0->tensorflow) (1.4.0)\n",
      "Requirement already satisfied: astunparse>=1.6.0 in c:\\users\\barbara\\appdata\\local\\programs\\python\\python311\\lib\\site-packages (from tensorflow-intel==2.12.0->tensorflow) (1.6.3)\n",
      "Requirement already satisfied: flatbuffers>=2.0 in c:\\users\\barbara\\appdata\\local\\programs\\python\\python311\\lib\\site-packages (from tensorflow-intel==2.12.0->tensorflow) (23.5.26)\n",
      "Requirement already satisfied: gast<=0.4.0,>=0.2.1 in c:\\users\\barbara\\appdata\\local\\programs\\python\\python311\\lib\\site-packages (from tensorflow-intel==2.12.0->tensorflow) (0.4.0)\n",
      "Requirement already satisfied: google-pasta>=0.1.1 in c:\\users\\barbara\\appdata\\local\\programs\\python\\python311\\lib\\site-packages (from tensorflow-intel==2.12.0->tensorflow) (0.2.0)\n",
      "Requirement already satisfied: h5py>=2.9.0 in c:\\users\\barbara\\appdata\\local\\programs\\python\\python311\\lib\\site-packages (from tensorflow-intel==2.12.0->tensorflow) (3.8.0)\n",
      "Requirement already satisfied: jax>=0.3.15 in c:\\users\\barbara\\appdata\\local\\programs\\python\\python311\\lib\\site-packages (from tensorflow-intel==2.12.0->tensorflow) (0.4.12)\n",
      "Requirement already satisfied: libclang>=13.0.0 in c:\\users\\barbara\\appdata\\local\\programs\\python\\python311\\lib\\site-packages (from tensorflow-intel==2.12.0->tensorflow) (16.0.0)\n",
      "Requirement already satisfied: opt-einsum>=2.3.2 in c:\\users\\barbara\\appdata\\local\\programs\\python\\python311\\lib\\site-packages (from tensorflow-intel==2.12.0->tensorflow) (3.3.0)\n",
      "Requirement already satisfied: packaging in c:\\users\\barbara\\appdata\\local\\programs\\python\\python311\\lib\\site-packages (from tensorflow-intel==2.12.0->tensorflow) (23.1)\n",
      "Requirement already satisfied: protobuf!=4.21.0,!=4.21.1,!=4.21.2,!=4.21.3,!=4.21.4,!=4.21.5,<5.0.0dev,>=3.20.3 in c:\\users\\barbara\\appdata\\local\\programs\\python\\python311\\lib\\site-packages (from tensorflow-intel==2.12.0->tensorflow) (4.23.3)\n",
      "Requirement already satisfied: setuptools in c:\\users\\barbara\\appdata\\local\\programs\\python\\python311\\lib\\site-packages (from tensorflow-intel==2.12.0->tensorflow) (65.5.0)\n",
      "Requirement already satisfied: six>=1.12.0 in c:\\users\\barbara\\appdata\\local\\programs\\python\\python311\\lib\\site-packages (from tensorflow-intel==2.12.0->tensorflow) (1.16.0)\n",
      "Requirement already satisfied: termcolor>=1.1.0 in c:\\users\\barbara\\appdata\\local\\programs\\python\\python311\\lib\\site-packages (from tensorflow-intel==2.12.0->tensorflow) (2.3.0)\n",
      "Requirement already satisfied: typing-extensions>=3.6.6 in c:\\users\\barbara\\appdata\\local\\programs\\python\\python311\\lib\\site-packages (from tensorflow-intel==2.12.0->tensorflow) (4.6.3)\n",
      "Requirement already satisfied: wrapt<1.15,>=1.11.0 in c:\\users\\barbara\\appdata\\local\\programs\\python\\python311\\lib\\site-packages (from tensorflow-intel==2.12.0->tensorflow) (1.14.1)\n",
      "Requirement already satisfied: grpcio<2.0,>=1.24.3 in c:\\users\\barbara\\appdata\\local\\programs\\python\\python311\\lib\\site-packages (from tensorflow-intel==2.12.0->tensorflow) (1.54.2)\n",
      "Requirement already satisfied: tensorboard<2.13,>=2.12 in c:\\users\\barbara\\appdata\\local\\programs\\python\\python311\\lib\\site-packages (from tensorflow-intel==2.12.0->tensorflow) (2.12.3)\n",
      "Requirement already satisfied: tensorflow-estimator<2.13,>=2.12.0 in c:\\users\\barbara\\appdata\\local\\programs\\python\\python311\\lib\\site-packages (from tensorflow-intel==2.12.0->tensorflow) (2.12.0)\n",
      "Requirement already satisfied: keras<2.13,>=2.12.0 in c:\\users\\barbara\\appdata\\local\\programs\\python\\python311\\lib\\site-packages (from tensorflow-intel==2.12.0->tensorflow) (2.12.0)\n",
      "Requirement already satisfied: tensorflow-io-gcs-filesystem>=0.23.1 in c:\\users\\barbara\\appdata\\local\\programs\\python\\python311\\lib\\site-packages (from tensorflow-intel==2.12.0->tensorflow) (0.31.0)\n",
      "Requirement already satisfied: contourpy>=1.0.1 in c:\\users\\barbara\\appdata\\local\\programs\\python\\python311\\lib\\site-packages (from matplotlib) (1.2.1)\n",
      "Requirement already satisfied: cycler>=0.10 in c:\\users\\barbara\\appdata\\local\\programs\\python\\python311\\lib\\site-packages (from matplotlib) (0.12.1)\n",
      "Requirement already satisfied: fonttools>=4.22.0 in c:\\users\\barbara\\appdata\\local\\programs\\python\\python311\\lib\\site-packages (from matplotlib) (4.53.0)\n",
      "Requirement already satisfied: kiwisolver>=1.3.1 in c:\\users\\barbara\\appdata\\local\\programs\\python\\python311\\lib\\site-packages (from matplotlib) (1.4.5)\n",
      "Requirement already satisfied: pyparsing>=2.3.1 in c:\\users\\barbara\\appdata\\local\\programs\\python\\python311\\lib\\site-packages (from matplotlib) (3.1.2)\n",
      "Requirement already satisfied: wheel<1.0,>=0.23.0 in c:\\users\\barbara\\appdata\\local\\programs\\python\\python311\\lib\\site-packages (from astunparse>=1.6.0->tensorflow-intel==2.12.0->tensorflow) (0.40.0)\n",
      "Requirement already satisfied: ml-dtypes>=0.1.0 in c:\\users\\barbara\\appdata\\local\\programs\\python\\python311\\lib\\site-packages (from jax>=0.3.15->tensorflow-intel==2.12.0->tensorflow) (0.2.0)\n",
      "Requirement already satisfied: google-auth<3,>=1.6.3 in c:\\users\\barbara\\appdata\\local\\programs\\python\\python311\\lib\\site-packages (from tensorboard<2.13,>=2.12->tensorflow-intel==2.12.0->tensorflow) (2.20.0)\n",
      "Requirement already satisfied: google-auth-oauthlib<1.1,>=0.5 in c:\\users\\barbara\\appdata\\local\\programs\\python\\python311\\lib\\site-packages (from tensorboard<2.13,>=2.12->tensorflow-intel==2.12.0->tensorflow) (1.0.0)\n",
      "Requirement already satisfied: markdown>=2.6.8 in c:\\users\\barbara\\appdata\\local\\programs\\python\\python311\\lib\\site-packages (from tensorboard<2.13,>=2.12->tensorflow-intel==2.12.0->tensorflow) (3.4.3)\n",
      "Requirement already satisfied: requests<3,>=2.21.0 in c:\\users\\barbara\\appdata\\local\\programs\\python\\python311\\lib\\site-packages (from tensorboard<2.13,>=2.12->tensorflow-intel==2.12.0->tensorflow) (2.31.0)\n",
      "Requirement already satisfied: tensorboard-data-server<0.8.0,>=0.7.0 in c:\\users\\barbara\\appdata\\local\\programs\\python\\python311\\lib\\site-packages (from tensorboard<2.13,>=2.12->tensorflow-intel==2.12.0->tensorflow) (0.7.1)\n",
      "Requirement already satisfied: werkzeug>=1.0.1 in c:\\users\\barbara\\appdata\\local\\programs\\python\\python311\\lib\\site-packages (from tensorboard<2.13,>=2.12->tensorflow-intel==2.12.0->tensorflow) (3.0.3)\n",
      "Requirement already satisfied: cachetools<6.0,>=2.0.0 in c:\\users\\barbara\\appdata\\local\\programs\\python\\python311\\lib\\site-packages (from google-auth<3,>=1.6.3->tensorboard<2.13,>=2.12->tensorflow-intel==2.12.0->tensorflow) (5.3.1)\n",
      "Requirement already satisfied: pyasn1-modules>=0.2.1 in c:\\users\\barbara\\appdata\\local\\programs\\python\\python311\\lib\\site-packages (from google-auth<3,>=1.6.3->tensorboard<2.13,>=2.12->tensorflow-intel==2.12.0->tensorflow) (0.3.0)\n",
      "Requirement already satisfied: rsa<5,>=3.1.4 in c:\\users\\barbara\\appdata\\local\\programs\\python\\python311\\lib\\site-packages (from google-auth<3,>=1.6.3->tensorboard<2.13,>=2.12->tensorflow-intel==2.12.0->tensorflow) (4.9)\n",
      "Requirement already satisfied: urllib3<2.0 in c:\\users\\barbara\\appdata\\local\\programs\\python\\python311\\lib\\site-packages (from google-auth<3,>=1.6.3->tensorboard<2.13,>=2.12->tensorflow-intel==2.12.0->tensorflow) (1.26.16)\n",
      "Requirement already satisfied: requests-oauthlib>=0.7.0 in c:\\users\\barbara\\appdata\\local\\programs\\python\\python311\\lib\\site-packages (from google-auth-oauthlib<1.1,>=0.5->tensorboard<2.13,>=2.12->tensorflow-intel==2.12.0->tensorflow) (1.3.1)\n",
      "Requirement already satisfied: charset-normalizer<4,>=2 in c:\\users\\barbara\\appdata\\local\\programs\\python\\python311\\lib\\site-packages (from requests<3,>=2.21.0->tensorboard<2.13,>=2.12->tensorflow-intel==2.12.0->tensorflow) (3.1.0)\n",
      "Requirement already satisfied: idna<4,>=2.5 in c:\\users\\barbara\\appdata\\local\\programs\\python\\python311\\lib\\site-packages (from requests<3,>=2.21.0->tensorboard<2.13,>=2.12->tensorflow-intel==2.12.0->tensorflow) (3.4)\n",
      "Requirement already satisfied: certifi>=2017.4.17 in c:\\users\\barbara\\appdata\\local\\programs\\python\\python311\\lib\\site-packages (from requests<3,>=2.21.0->tensorboard<2.13,>=2.12->tensorflow-intel==2.12.0->tensorflow) (2023.5.7)\n",
      "Requirement already satisfied: MarkupSafe>=2.1.1 in c:\\users\\barbara\\appdata\\local\\programs\\python\\python311\\lib\\site-packages (from werkzeug>=1.0.1->tensorboard<2.13,>=2.12->tensorflow-intel==2.12.0->tensorflow) (2.1.3)\n",
      "Requirement already satisfied: pyasn1<0.6.0,>=0.4.6 in c:\\users\\barbara\\appdata\\local\\programs\\python\\python311\\lib\\site-packages (from pyasn1-modules>=0.2.1->google-auth<3,>=1.6.3->tensorboard<2.13,>=2.12->tensorflow-intel==2.12.0->tensorflow) (0.5.0)\n",
      "Requirement already satisfied: oauthlib>=3.0.0 in c:\\users\\barbara\\appdata\\local\\programs\\python\\python311\\lib\\site-packages (from requests-oauthlib>=0.7.0->google-auth-oauthlib<1.1,>=0.5->tensorboard<2.13,>=2.12->tensorflow-intel==2.12.0->tensorflow) (3.2.2)\n"
     ]
    }
   ],
   "source": [
    "!pip install numpy pandas scikit-learn tensorflow pillow matplotlib opencv-python"
   ]
  },
  {
   "cell_type": "code",
   "execution_count": 34,
   "metadata": {},
   "outputs": [],
   "source": [
    "# Célula 1: Importação das bibliotecas necessárias\n",
    "import numpy as np\n",
    "import pandas as pd\n",
    "from sklearn.model_selection import train_test_split\n",
    "from sklearn.svm import SVC\n",
    "from sklearn.metrics import accuracy_score\n",
    "import tensorflow as tf\n",
    "from tensorflow.keras.applications import ResNet50\n",
    "from tensorflow.keras import layers, models\n",
    "from tensorflow.keras.utils import to_categorical\n",
    "from tensorflow.keras.optimizers import Adam\n",
    "from tensorflow.keras.callbacks import ModelCheckpoint\n",
    "import cv2\n",
    "from PIL import Image\n",
    "import matplotlib.pyplot as plt\n",
    "import zipfile\n",
    "import os"
   ]
  },
  {
   "cell_type": "code",
   "execution_count": 35,
   "metadata": {},
   "outputs": [
    {
     "data": {
      "text/plain": [
       "['ASC-H',\n",
       " 'ASC-US',\n",
       " 'HSIL',\n",
       " 'LSIL',\n",
       " 'Negative for intraepithelial lesion',\n",
       " 'SCC']"
      ]
     },
     "execution_count": 35,
     "metadata": {},
     "output_type": "execute_result"
    }
   ],
   "source": [
    "# Definindo o caminho do arquivo zipado\n",
    "#zip_path = '/content/sub_images.zip'\n",
    "extract_path = os.path.join('..', '..', 'PREPROCESSAMENTO', 'sub_images')\n",
    "\n",
    "# Descompactando o arquivo\n",
    "#with zipfile.ZipFile(zip_path, 'r') as zip_ref:\n",
    " #   zip_ref.extractall(extract_path)\n",
    "\n",
    "# Verificando o conteúdo da pasta descompactada\n",
    "os.listdir(extract_path)"
   ]
  },
  {
   "cell_type": "code",
   "execution_count": 36,
   "metadata": {},
   "outputs": [],
   "source": [
    "def load_data(data_path):\n",
    "    X = []\n",
    "    y = []\n",
    "    label_map = {}  # Dicionário para mapear nomes das pastas para rótulos numéricos\n",
    "    print(\"Carregando imagens...\")\n",
    "    for i, label in enumerate(os.listdir(data_path)):\n",
    "        label_path = os.path.join(data_path, label)\n",
    "        if os.path.isdir(label_path):\n",
    "            print(f\"Processando imagens para a classe: {label}\")\n",
    "            label_map[label] = i  # Adiciona a classe ao dicionário de mapeamento\n",
    "            for img_name in os.listdir(label_path):\n",
    "                img_path = os.path.join(label_path, img_name)\n",
    "                # Verificando se o caminho é um arquivo e se é uma imagem válida\n",
    "                if os.path.isfile(img_path) and any(img_path.endswith(ext) for ext in ['.jpg', '.jpeg', '.png', '.bmp']):\n",
    "                    img = Image.open(img_path).convert('L')  # Convertendo a imagem para grayscale\n",
    "                    img = img.resize((16, 8))  # Redimensionando a imagem para 16x8\n",
    "                    img_array = np.array(img).reshape(16, 8, 1)  # Transformando a imagem em um array numpy\n",
    "                    X.append(img_array)\n",
    "                    y.append(i)  # Usando o índice da classe como rótulo\n",
    "                else:\n",
    "                    print(f\"Warning: {img_path} não é um arquivo de imagem válido.\")\n",
    "    if not X:\n",
    "        raise ValueError(\"Nenhuma imagem válida encontrada.\")\n",
    "    if not y:\n",
    "        raise ValueError(\"Nenhum rótulo encontrado.\")\n",
    "    print(\"Carregamento de imagens concluído.\")\n",
    "    X = np.array(X)\n",
    "    y = np.array(y)\n",
    "    return X, y, label_map\n"
   ]
  },
  {
   "cell_type": "code",
   "execution_count": 37,
   "metadata": {},
   "outputs": [
    {
     "name": "stdout",
     "output_type": "stream",
     "text": [
      "Carregando imagens...\n",
      "Processando imagens para a classe: ASC-H\n",
      "Processando imagens para a classe: ASC-US\n",
      "Processando imagens para a classe: HSIL\n",
      "Processando imagens para a classe: LSIL\n",
      "Processando imagens para a classe: Negative for intraepithelial lesion\n",
      "Processando imagens para a classe: SCC\n",
      "Carregamento de imagens concluído.\n"
     ]
    }
   ],
   "source": [
    "# Carregando os dados\n",
    "X, y, label_map = load_data(extract_path)\n",
    "\n",
    "# Dividindo os dados em treino e teste\n",
    "X_train, X_test, y_train, y_test = train_test_split(X, y, test_size=0.2, random_state=42)\n"
   ]
  },
  {
   "cell_type": "code",
   "execution_count": 38,
   "metadata": {},
   "outputs": [
    {
     "name": "stdout",
     "output_type": "stream",
     "text": [
      "Acurácia do SVM: 0.25\n"
     ]
    }
   ],
   "source": [
    "# Classificador Raso: SVM\n",
    "# Redimensionando os dados para o formato 2D (necessário para o SVM)\n",
    "X_train_flat = X_train.reshape(X_train.shape[0], -1)\n",
    "X_test_flat = X_test.reshape(X_test.shape[0], -1)\n",
    "\n",
    "# Treinando o SVM\n",
    "svm_model = SVC(kernel='linear')\n",
    "svm_model.fit(X_train_flat, y_train)\n",
    "\n",
    "# Prevendo no conjunto de teste\n",
    "y_pred_svm = svm_model.predict(X_test_flat)\n",
    "\n",
    "# Avaliando o modelo SVM\n",
    "svm_accuracy = accuracy_score(y_test, y_pred_svm)\n",
    "print(f'Acurácia do SVM: {svm_accuracy:.2f}')\n"
   ]
  },
  {
   "cell_type": "code",
   "execution_count": 39,
   "metadata": {},
   "outputs": [],
   "source": [
    "# Célula 4: Classificador Profundo: ResNet50\n",
    "# Verificar o número de classes em y_train\n",
    "num_classes = len(np.unique(y_train))\n",
    "\n",
    "# Convertendo rótulos para one-hot encoding\n",
    "y_train_cat = to_categorical(y_train, num_classes=num_classes) # antes num_classes=2 -> tem mais do que 2 classes\n",
    "y_test_cat = to_categorical(y_test, num_classes=num_classes)\n",
    "\n",
    "# Redimensionando as imagens para 32x32\n",
    "x_train_resized = np.array([cv2.resize(img, (32, 32)) for img in X_train]) # redefinir o tamanho pq o resnet precisa ser 32x32 pelo menos\n",
    "x_test_resized = np.array([cv2.resize(img, (32, 32)) for img in X_test])\n",
    "\n",
    "# Expandindo a dimensão para incluir o canal de cor\n",
    "x_train_resized = np.expand_dims(x_train_resized, axis=-1)\n",
    "x_test_resized = np.expand_dims(x_test_resized, axis=-1)\n",
    "\n",
    "# Construindo o modelo ResNet50\n",
    "input_shape = (32, 32, 1) # antes era (16,8,1) -> tem que ser 32x32 pelo menos\n",
    "resnet_model = ResNet50(include_top=False, weights=None, input_shape=input_shape)\n",
    "x = layers.GlobalAveragePooling2D()(resnet_model.output)\n",
    "output = layers.Dense(num_classes, activation='softmax')(x)\n",
    "\n",
    "model = models.Model(inputs=resnet_model.input, outputs=output)\n",
    "\n",
    "# Compilando o modelo\n",
    "model.compile(optimizer=Adam(learning_rate=0.001),\n",
    "              loss='categorical_crossentropy',\n",
    "              metrics=['accuracy'])\n",
    "# Definindo o callback de checkpoint para salvar o melhor modelo\n",
    "checkpoint_path = \"best_model.h5\"\n",
    "checkpoint = ModelCheckpoint(filepath=checkpoint_path, \n",
    "                              save_best_only=True, \n",
    "                              monitor='val_accuracy', \n",
    "                              mode='max', \n",
    "                              verbose=1)\n",
    "# Adicionando o callback de checkpoint na lista de callbacks\n",
    "callbacks_list = [checkpoint]"
   ]
  },
  {
   "cell_type": "code",
   "execution_count": 40,
   "metadata": {},
   "outputs": [
    {
     "name": "stdout",
     "output_type": "stream",
     "text": [
      "Epoch 1/10\n",
      "3/3 [==============================] - ETA: 0s - loss: 3.4197 - accuracy: 0.2188\n",
      "Epoch 1: val_accuracy improved from -inf to 0.25000, saving model to best_model.h5\n",
      "3/3 [==============================] - 71s 7s/step - loss: 3.4197 - accuracy: 0.2188 - val_loss: 3.3846 - val_accuracy: 0.2500\n",
      "Epoch 2/10\n",
      "3/3 [==============================] - ETA: 0s - loss: 4.3990 - accuracy: 0.2083\n",
      "Epoch 2: val_accuracy did not improve from 0.25000\n",
      "3/3 [==============================] - 10s 3s/step - loss: 4.3990 - accuracy: 0.2083 - val_loss: 3.1347 - val_accuracy: 0.1667\n",
      "Epoch 3/10\n",
      "3/3 [==============================] - ETA: 0s - loss: 4.1877 - accuracy: 0.3646\n",
      "Epoch 3: val_accuracy did not improve from 0.25000\n",
      "3/3 [==============================] - 10s 4s/step - loss: 4.1877 - accuracy: 0.3646 - val_loss: 4.8996 - val_accuracy: 0.1667\n",
      "Epoch 4/10\n",
      "3/3 [==============================] - ETA: 0s - loss: 3.2794 - accuracy: 0.4792\n",
      "Epoch 4: val_accuracy did not improve from 0.25000\n",
      "3/3 [==============================] - 10s 3s/step - loss: 3.2794 - accuracy: 0.4792 - val_loss: 4.0349 - val_accuracy: 0.1667\n",
      "Epoch 5/10\n",
      "3/3 [==============================] - ETA: 0s - loss: 2.9146 - accuracy: 0.4479\n",
      "Epoch 5: val_accuracy did not improve from 0.25000\n",
      "3/3 [==============================] - 10s 3s/step - loss: 2.9146 - accuracy: 0.4479 - val_loss: 7.7282 - val_accuracy: 0.1667\n",
      "Epoch 6/10\n",
      "3/3 [==============================] - ETA: 0s - loss: 1.5662 - accuracy: 0.7083\n",
      "Epoch 6: val_accuracy did not improve from 0.25000\n",
      "3/3 [==============================] - 10s 3s/step - loss: 1.5662 - accuracy: 0.7083 - val_loss: 8.9771 - val_accuracy: 0.1667\n",
      "Epoch 7/10\n",
      "3/3 [==============================] - ETA: 0s - loss: 1.2595 - accuracy: 0.6979\n",
      "Epoch 7: val_accuracy did not improve from 0.25000\n",
      "3/3 [==============================] - 10s 3s/step - loss: 1.2595 - accuracy: 0.6979 - val_loss: 9.2609 - val_accuracy: 0.1667\n",
      "Epoch 8/10\n",
      "3/3 [==============================] - ETA: 0s - loss: 1.6656 - accuracy: 0.6146\n",
      "Epoch 8: val_accuracy did not improve from 0.25000\n",
      "3/3 [==============================] - 10s 4s/step - loss: 1.6656 - accuracy: 0.6146 - val_loss: 5.6692 - val_accuracy: 0.2083\n",
      "Epoch 9/10\n",
      "3/3 [==============================] - ETA: 0s - loss: 1.2393 - accuracy: 0.7292\n",
      "Epoch 9: val_accuracy did not improve from 0.25000\n",
      "3/3 [==============================] - 10s 3s/step - loss: 1.2393 - accuracy: 0.7292 - val_loss: 4.8451 - val_accuracy: 0.1667\n",
      "Epoch 10/10\n",
      "3/3 [==============================] - ETA: 0s - loss: 1.5265 - accuracy: 0.6562\n",
      "Epoch 10: val_accuracy did not improve from 0.25000\n",
      "3/3 [==============================] - 9s 3s/step - loss: 1.5265 - accuracy: 0.6562 - val_loss: 4.4571 - val_accuracy: 0.2500\n"
     ]
    }
   ],
   "source": [
    "# Treinando o modelo ResNet50 com checkpoint\n",
    "history = model.fit(x_train_resized, y_train_cat, epochs=10, batch_size=32, validation_data=(x_test_resized, y_test_cat), validation_split=0.2, callbacks=callbacks_list)"
   ]
  },
  {
   "cell_type": "code",
   "execution_count": 41,
   "metadata": {},
   "outputs": [
    {
     "name": "stdout",
     "output_type": "stream",
     "text": [
      "1/1 [==============================] - 0s 290ms/step - loss: 4.4571 - accuracy: 0.2500\n"
     ]
    },
    {
     "name": "stdout",
     "output_type": "stream",
     "text": [
      "Acurácia da ResNet50: 0.25\n"
     ]
    }
   ],
   "source": [
    "# Célula 6: Avaliando o modelo no conjunto de teste\n",
    "test_loss, test_accuracy = model.evaluate(x_test_resized, y_test_cat)\n",
    "print(f'Acurácia da ResNet50: {test_accuracy:.2f}')\n"
   ]
  },
  {
   "cell_type": "code",
   "execution_count": 42,
   "metadata": {},
   "outputs": [
    {
     "data": {
      "image/png": "[encoded data removed]",
      "text/plain": [
       "<Figure size 640x480 with 1 Axes>"
      ]
     },
     "metadata": {},
     "output_type": "display_data"
    }
   ],
   "source": [
    "# Célula 7: Plotando a curva de treinamento\n",
    "plt.plot(history.history['accuracy'], label='Acurácia Treino')\n",
    "plt.plot(history.history['val_accuracy'], label='Acurácia Validação')\n",
    "plt.xlabel('Época')\n",
    "plt.ylabel('Acurácia')\n",
    "plt.legend()\n",
    "plt.show()\n"
   ]
  }
 ],
 "metadata": {
  "kernelspec": {
   "display_name": "Python 3",
   "language": "python",
   "name": "python3"
  },
  "language_info": {
   "codemirror_mode": {
    "name": "ipython",
    "version": 3
   },
   "file_extension": ".py",
   "mimetype": "text/x-python",
   "name": "python",
   "nbconvert_exporter": "python",
   "pygments_lexer": "ipython3",
   "version": "3.11.4"
  }
 },
 "nbformat": 4,
 "nbformat_minor": 2
}
