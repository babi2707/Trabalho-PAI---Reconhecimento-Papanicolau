import tensorflow as tf
import numpy as np
import matplotlib.pyplot as plt
from sklearn.svm import SVC

# Carregamento dos Dados
# ...

# Pré-processamento das Imagens
# ...

# Criação da Rede Neural
# ResNet50
resnet = tf.keras.applications.ResNet50(include_top=False, weights='imagenet')
for layer in resnet.layers:
    layer.trainable = False

# Camadas Adicionais
x = resnet.output
x = tf.keras.layers.GlobalAveragePooling2D()(x)
x = tf.keras.layers.Dense(128, activation='relu')(x)
outputs = tf.keras.layers.Dense(2, activation='softmax')(x)

# SVM
svm = SVC()

# Modelo Final
model = tf.keras.Model(inputs=resnet.input, outputs=[outputs, svm.predict(x)])

# Compile a rede neural
model.compile(loss={'output_1': 'sparse_categorical_crossentropy', 'output_2': 'categorical_hinge'},
              optimizer='adam',
              metrics={'output_1': ['accuracy'], 'output_2': ['accuracy']})

# Treine a rede neural
history = model.fit(x_train, [y_train_onehot, y_train_svm],
                    epochs=30,
                    batch_size=32,
                    validation_data=(x_val, [y_val_onehot, y_val_svm]),
                    verbose=1)


# Avaliação da Rede Neural
# ...

# Visualização dos Resultados
# ...
