{
 "cells": [
  {
   "cell_type": "code",
   "execution_count": null,
   "metadata": {},
   "outputs": [],
   "source": [
    "# Célula 1: Importação das bibliotecas necessárias\n",
    "import numpy as np\n",
    "import pandas as pd\n",
    "from sklearn.model_selection import train_test_split\n",
    "from sklearn.svm import SVC\n",
    "from sklearn.metrics import accuracy_score\n",
    "import tensorflow as tf\n",
    "from tensorflow.keras.applications import ResNet50\n",
    "from tensorflow.keras import layers, models\n",
    "from tensorflow.keras.utils import to_categorical\n",
    "from tensorflow.keras.optimizers import Adam\n",
    "from tensorflow.keras.callbacks import ModelCheckpoint\n",
    "from PIL import Image\n",
    "import matplotlib.pyplot as plt\n",
    "import zipfile\n",
    "import os"
   ]
  },
  {
   "cell_type": "code",
   "execution_count": null,
   "metadata": {},
   "outputs": [],
   "source": [
    "# Definindo o caminho do arquivo zipado\n",
    "#zip_path = '/content/sub_images.zip'\n",
    "extract_path = '/content/sub_images/sub_images'\n",
    "\n",
    "# Descompactando o arquivo\n",
    "#with zipfile.ZipFile(zip_path, 'r') as zip_ref:\n",
    " #   zip_ref.extractall(extract_path)\n",
    "\n",
    "# Verificando o conteúdo da pasta descompactada\n",
    "os.listdir(extract_path)"
   ]
  },
  {
   "cell_type": "code",
   "execution_count": null,
   "metadata": {},
   "outputs": [],
   "source": [
    "def load_data(data_path):\n",
    "    X = []\n",
    "    y = []\n",
    "    label_map = {}  # Dicionário para mapear nomes das pastas para rótulos numéricos\n",
    "    print(\"Carregando imagens...\")\n",
    "    for i, label in enumerate(os.listdir(data_path)):\n",
    "        label_path = os.path.join(data_path, label)\n",
    "        if os.path.isdir(label_path):\n",
    "            print(f\"Processando imagens para a classe: {label}\")\n",
    "            label_map[label] = i  # Adiciona a classe ao dicionário de mapeamento\n",
    "            for img_name in os.listdir(label_path):\n",
    "                img_path = os.path.join(label_path, img_name)\n",
    "                # Verificando se o caminho é um arquivo e se é uma imagem válida\n",
    "                if os.path.isfile(img_path) and any(img_path.endswith(ext) for ext in ['.jpg', '.jpeg', '.png', '.bmp']):\n",
    "                    img = Image.open(img_path).convert('L')  # Convertendo a imagem para grayscale\n",
    "                    img = img.resize((16, 8))  # Redimensionando a imagem para 16x8\n",
    "                    img_array = np.array(img).reshape(16, 8, 1)  # Transformando a imagem em um array numpy\n",
    "                    X.append(img_array)\n",
    "                    y.append(i)  # Usando o índice da classe como rótulo\n",
    "                else:\n",
    "                    print(f\"Warning: {img_path} não é um arquivo de imagem válido.\")\n",
    "    if not X:\n",
    "        raise ValueError(\"Nenhuma imagem válida encontrada.\")\n",
    "    if not y:\n",
    "        raise ValueError(\"Nenhum rótulo encontrado.\")\n",
    "    print(\"Carregamento de imagens concluído.\")\n",
    "    X = np.array(X)\n",
    "    y = np.array(y)\n",
    "    return X, y, label_map\n"
   ]
  },
  {
   "cell_type": "code",
   "execution_count": null,
   "metadata": {},
   "outputs": [],
   "source": [
    "# Carregando os dados\n",
    "X, y, label_map = load_data(extract_path)\n",
    "\n",
    "# Dividindo os dados em treino e teste\n",
    "X_train, X_test, y_train, y_test = train_test_split(X, y, test_size=0.2, random_state=42)\n"
   ]
  },
  {
   "cell_type": "code",
   "execution_count": null,
   "metadata": {},
   "outputs": [],
   "source": [
    "# Classificador Raso: SVM\n",
    "# Redimensionando os dados para o formato 2D (necessário para o SVM)\n",
    "X_train_flat = X_train.reshape(X_train.shape[0], -1)\n",
    "X_test_flat = X_test.reshape(X_test.shape[0], -1)\n",
    "\n",
    "# Treinando o SVM\n",
    "svm_model = SVC(kernel='linear')\n",
    "svm_model.fit(X_train_flat, y_train)\n",
    "\n",
    "# Prevendo no conjunto de teste\n",
    "y_pred_svm = svm_model.predict(X_test_flat)\n",
    "\n",
    "# Avaliando o modelo SVM\n",
    "svm_accuracy = accuracy_score(y_test, y_pred_svm)\n",
    "print(f'Acurácia do SVM: {svm_accuracy:.2f}')\n"
   ]
  },
  {
   "cell_type": "code",
   "execution_count": null,
   "metadata": {},
   "outputs": [],
   "source": [
    "# Célula 4: Classificador Profundo: ResNet50\n",
    "# Convertendo rótulos para one-hot encoding\n",
    "y_train_cat = to_categorical(y_train, num_classes=2)\n",
    "y_test_cat = to_categorical(y_test, num_classes=2)\n",
    "\n",
    "# Construindo o modelo ResNet50\n",
    "input_shape = (16, 8, 1)\n",
    "resnet_model = ResNet50(include_top=False, weights=None, input_shape=input_shape)\n",
    "x = layers.GlobalAveragePooling2D()(resnet_model.output)\n",
    "output = layers.Dense(2, activation='softmax')(x)\n",
    "\n",
    "model = models.Model(inputs=resnet_model.input, outputs=output)\n",
    "\n",
    "# Compilando o modelo\n",
    "model.compile(optimizer=Adam(learning_rate=0.001),\n",
    "              loss='categorical_crossentropy',\n",
    "              metrics=['accuracy'])\n",
    "# Definindo o callback de checkpoint para salvar o melhor modelo\n",
    "checkpoint_path = \"best_model.h5\"\n",
    "checkpoint = ModelCheckpoint(filepath=checkpoint_path, \n",
    "                              save_best_only=True, \n",
    "                              monitor='val_accuracy', \n",
    "                              mode='max', \n",
    "                              verbose=1)\n",
    "# Adicionando o callback de checkpoint na lista de callbacks\n",
    "callbacks_list = [checkpoint]"
   ]
  },
  {
   "cell_type": "code",
   "execution_count": null,
   "metadata": {},
   "outputs": [],
   "source": [
    "# Treinando o modelo ResNet50 com checkpoint\n",
    "history = model.fit(X_train, y_train_cat, epochs=10, batch_size=32, validation_split=0.2, callbacks=callbacks_list)\n"
   ]
  },
  {
   "cell_type": "code",
   "execution_count": null,
   "metadata": {},
   "outputs": [],
   "source": [
    "# Célula 6: Avaliando o modelo no conjunto de teste\n",
    "test_loss, test_accuracy = model.evaluate(X_test, y_test_cat)\n",
    "print(f'Acurácia da ResNet50: {test_accuracy:.2f}')\n"
   ]
  },
  {
   "cell_type": "code",
   "execution_count": null,
   "metadata": {},
   "outputs": [],
   "source": [
    "# Célula 7: Plotando a curva de treinamento\n",
    "plt.plot(history.history['accuracy'], label='Acurácia Treino')\n",
    "plt.plot(history.history['val_accuracy'], label='Acurácia Validação')\n",
    "plt.xlabel('Época')\n",
    "plt.ylabel('Acurácia')\n",
    "plt.legend()\n",
    "plt.show()\n"
   ]
  }
 ],
 "metadata": {
  "kernelspec": {
   "display_name": "Python 3",
   "language": "python",
   "name": "python3"
  },
  "language_info": {
   "name": "python",
   "version": "3.9.13"
  }
 },
 "nbformat": 4,
 "nbformat_minor": 2
}
